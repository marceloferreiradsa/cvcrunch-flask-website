{
 "cells": [
  {
   "cell_type": "code",
   "execution_count": 9,
   "id": "ff6682bb",
   "metadata": {},
   "outputs": [],
   "source": [
    "import os\n",
    "import json\n",
    "import re"
   ]
  },
  {
   "cell_type": "code",
   "execution_count": 3,
   "id": "af8f77a5",
   "metadata": {},
   "outputs": [
    {
     "name": "stdout",
     "output_type": "stream",
     "text": [
      "C:\\Users\\colth\\OneDrive\\Documentos\\Cursos\\YouTube\\DropzoneJS\\static\\uploads\n"
     ]
    }
   ],
   "source": [
    "print(os.getcwd())"
   ]
  },
  {
   "cell_type": "code",
   "execution_count": 4,
   "id": "874a80b2",
   "metadata": {
    "scrolled": true
   },
   "outputs": [
    {
     "name": "stdout",
     "output_type": "stream",
     "text": [
      "['.ipynb_checkpoints', 'CV_09b6fd5a-15e3-4aa4-9b4b-0c1d8bf441fa_1710805040.txt', 'CV_1d1c7a85-e2d7-4bba-a153-382334dc06ff_1710792656.txt', 'CV_77486fab-7a2a-4f28-a101-71b2c3aae106_1710874602.txt', 'CV_7860d5a6-e667-465b-b621-ceb4ceb975eb_1710804000.txt', 'CV_8ab318ea-25f7-4708-81ec-53f765f13206_1710874487.txt', 'CV_aa357548-1959-47b4-915a-0160b3734c31_1710792053.txt', 'CV_eb8ea155-ad7f-453d-b262-c1c450927810_1710875490.txt', 'CV_f7e6b50a-633d-4c5b-9724-5bde154e6348_1710806941.txt', 'CV_fdf0184f-683e-47ec-a7e7-2baaf54e62b9_1710805250.txt', 'JD_09b6fd5a-15e3-4aa4-9b4b-0c1d8bf441fa_1710805045.txt', 'JD_1d1c7a85-e2d7-4bba-a153-382334dc06ff_1710792848.txt', 'JD_77486fab-7a2a-4f28-a101-71b2c3aae106_1710874606.txt', 'JD_7860d5a6-e667-465b-b621-ceb4ceb975eb_1710804006.txt', 'JD_8ab318ea-25f7-4708-81ec-53f765f13206_1710874525.txt', 'JD_aa357548-1959-47b4-915a-0160b3734c31_1710792094.txt', 'JD_eb8ea155-ad7f-453d-b262-c1c450927810_1710875526.txt', 'JD_f7e6b50a-633d-4c5b-9724-5bde154e6348_1710806969.txt', 'JD_f7e6b50a-633d-4c5b-9724-5bde154e6348_1710807652.txt', 'JD_fdf0184f-683e-47ec-a7e7-2baaf54e62b9_1710805278.txt', 'Marcelo_Ferreira.docx', 'Marcelo_Ferreira.pdf', 'MS_09b6fd5a-15e3-4aa4-9b4b-0c1d8bf441fa_1710805062.json', 'MS_1d1c7a85-e2d7-4bba-a153-382334dc06ff_1710792868.json', 'MS_77486fab-7a2a-4f28-a101-71b2c3aae106_1710874630.json', 'MS_7860d5a6-e667-465b-b621-ceb4ceb975eb_1710804022.json', 'MS_872f6297-c14c-4d8f-91d1-0848750a0ec2_1710791741.json', 'MS_8ab318ea-25f7-4708-81ec-53f765f13206_1710874545.json', 'MS_aa357548-1959-47b4-915a-0160b3734c31_1710792111.json', 'MS_eb8ea155-ad7f-453d-b262-c1c450927810_1710875551.json', 'MS_f7e6b50a-633d-4c5b-9724-5bde154e6348_1710806993.json', 'MS_f7e6b50a-633d-4c5b-9724-5bde154e6348_1710807670.json', 'MS_fdf0184f-683e-47ec-a7e7-2baaf54e62b9_1710805300.json', 'Untitled.ipynb']\n"
     ]
    }
   ],
   "source": [
    "print(os.listdir())"
   ]
  },
  {
   "cell_type": "code",
   "execution_count": 5,
   "id": "99f4dea1",
   "metadata": {},
   "outputs": [],
   "source": [
    "json_file = 'MS_872f6297-c14c-4d8f-91d1-0848750a0ec2_1710791741.json'"
   ]
  },
  {
   "cell_type": "code",
   "execution_count": 6,
   "id": "e752fc1a",
   "metadata": {},
   "outputs": [],
   "source": [
    "with open(json_file, 'r', encoding='utf-8') as file:\n",
    "    data = json.load(file)"
   ]
  },
  {
   "cell_type": "code",
   "execution_count": 8,
   "id": "64a36954",
   "metadata": {},
   "outputs": [
    {
     "data": {
      "text/plain": [
       "\"Overall Score: 75/100\\n\\nEducation: 80/100 - The candidate holds a postgraduate degree in Science/Information Studies and has completed courses related to data analysis. While not specifically mentioned in the resume, the candidate's educational background aligns well with the job description's requirement for a Bachelor/Master in a quantitative discipline.\\n\\nExperience: 70/100 - The candidate has extensive experience in data analytics, process improvement, and project management at Banco do Brasil. The roles held demonstrate involvement in data-related projects, ETL processes, and database management, which are relevant to the job description. However, more emphasis on specific projects related to data engineering and model deployment could further align the experience with the job requirements.\\n\\nSkills: 70/100 - The candidate possesses skills in various programming languages, database tools, and data visualization platforms. While the resume mentions Python, SQL, and ETL processes, more details on experience with API design, scaling data infrastructure, and specific tools mentioned in the job description could enhance alignment.\\n\\nLanguage: 100/100 - The candidate has listed English as an advanced language proficiency, which aligns with the job description's requirement for effective communication with technical and non-technical stakeholders.\\n\\nAdditional Activities: 50/100 - The candidate's involvement in producing coloring books related to combating religious intolerance, while commendable, may not directly relate to the role of a Senior Data Scientist. However, the candidate's creativity and use of AI tools could be seen as a positive attribute.\\n\\nRecommendations:\\n1. Highlight specific projects related to data engineering, model deployment, and data validation to showcase direct relevance to the job description.\\n2. Provide more details on experience with API design, scaling data infrastructure, and specific tools mentioned in the job description.\\n3. Consider emphasizing the successful cost-saving initiatives and data-driven decision-making results achieved in previous roles.\\n4. While the additional activity of producing coloring books demonstrates creativity, consider focusing on professional achievements more closely related to data science for a Senior Data Scientist position.\\n\\nOverall, the candidate's resume demonstrates a strong foundation in data analytics and project management, with some areas that could be further developed to align more closely with the job description for a Senior Data Scientist role.\""
      ]
     },
     "execution_count": 8,
     "metadata": {},
     "output_type": "execute_result"
    }
   ],
   "source": [
    "data[4]['content']"
   ]
  },
  {
   "cell_type": "code",
   "execution_count": 72,
   "id": "a309642d",
   "metadata": {},
   "outputs": [],
   "source": [
    "report = data[4]['content']"
   ]
  },
  {
   "cell_type": "code",
   "execution_count": null,
   "id": "b735662d",
   "metadata": {},
   "outputs": [],
   "source": []
  },
  {
   "cell_type": "code",
   "execution_count": null,
   "id": "170262a4",
   "metadata": {},
   "outputs": [],
   "source": []
  },
  {
   "cell_type": "code",
   "execution_count": null,
   "id": "f6a64f7f",
   "metadata": {},
   "outputs": [],
   "source": []
  },
  {
   "cell_type": "code",
   "execution_count": null,
   "id": "66c2af35",
   "metadata": {},
   "outputs": [],
   "source": []
  },
  {
   "cell_type": "code",
   "execution_count": 78,
   "id": "4e58c002",
   "metadata": {},
   "outputs": [
    {
     "data": {
      "text/plain": [
       "\"Overall Score: 75/100\\n\\nEducation: 80/100 - The candidate holds a postgraduate degree in Science/Information Studies and has completed courses related to data analysis. While not specifically mentioned in the resume, the candidate's educational background aligns well with the job description's requirement for a Bachelor/Master in a quantitative discipline.\\n\\nExperience: 70/100 - The candidate has extensive experience in data analytics, process improvement, and project management at Banco do Brasil. The roles held demonstrate involvement in data-related projects, ETL processes, and database management, which are relevant to the job description. However, more emphasis on specific projects related to data engineering and model deployment could further align the experience with the job requirements.\\n\\nSkills: 70/100 - The candidate possesses skills in various programming languages, database tools, and data visualization platforms. While the resume mentions Python, SQL, and ETL processes, more details on experience with API design, scaling data infrastructure, and specific tools mentioned in the job description could enhance alignment.\\n\\nLanguage: 100/100 - The candidate has listed English as an advanced language proficiency, which aligns with the job description's requirement for effective communication with technical and non-technical stakeholders.\\n\\nAdditional Activities: 50/100 - The candidate's involvement in producing coloring books related to combating religious intolerance, while commendable, may not directly relate to the role of a Senior Data Scientist. However, the candidate's creativity and use of AI tools could be seen as a positive attribute.\\n\\nRecommendations:\\n1. Highlight specific projects related to data engineering, model deployment, and data validation to showcase direct relevance to the job description.\\n2. Provide more details on experience with API design, scaling data infrastructure, and specific tools mentioned in the job description.\\n3. Consider emphasizing the successful cost-saving initiatives and data-driven decision-making results achieved in previous roles.\\n4. While the additional activity of producing coloring books demonstrates creativity, consider focusing on professional achievements more closely related to data science for a Senior Data Scientist position.\\n\\nOverall, the candidate's resume demonstrates a strong foundation in data analytics and project management, with some areas that could be further developed to align more closely with the job description for a Senior Data Scientist role.\""
      ]
     },
     "execution_count": 78,
     "metadata": {},
     "output_type": "execute_result"
    }
   ],
   "source": [
    "report"
   ]
  },
  {
   "cell_type": "code",
   "execution_count": 68,
   "id": "934f99d1",
   "metadata": {},
   "outputs": [],
   "source": [
    "report = report.replace('\\n', ' ')"
   ]
  },
  {
   "cell_type": "code",
   "execution_count": 85,
   "id": "9f3edd83",
   "metadata": {},
   "outputs": [],
   "source": [
    "new_list = re.split(r'[\\n]', report)"
   ]
  },
  {
   "cell_type": "code",
   "execution_count": 86,
   "id": "045647de",
   "metadata": {},
   "outputs": [
    {
     "data": {
      "text/plain": [
       "['Overall Score: 75/100',\n",
       " '',\n",
       " \"Education: 80/100 - The candidate holds a postgraduate degree in Science/Information Studies and has completed courses related to data analysis. While not specifically mentioned in the resume, the candidate's educational background aligns well with the job description's requirement for a Bachelor/Master in a quantitative discipline.\",\n",
       " '',\n",
       " 'Experience: 70/100 - The candidate has extensive experience in data analytics, process improvement, and project management at Banco do Brasil. The roles held demonstrate involvement in data-related projects, ETL processes, and database management, which are relevant to the job description. However, more emphasis on specific projects related to data engineering and model deployment could further align the experience with the job requirements.',\n",
       " '',\n",
       " 'Skills: 70/100 - The candidate possesses skills in various programming languages, database tools, and data visualization platforms. While the resume mentions Python, SQL, and ETL processes, more details on experience with API design, scaling data infrastructure, and specific tools mentioned in the job description could enhance alignment.',\n",
       " '',\n",
       " \"Language: 100/100 - The candidate has listed English as an advanced language proficiency, which aligns with the job description's requirement for effective communication with technical and non-technical stakeholders.\",\n",
       " '',\n",
       " \"Additional Activities: 50/100 - The candidate's involvement in producing coloring books related to combating religious intolerance, while commendable, may not directly relate to the role of a Senior Data Scientist. However, the candidate's creativity and use of AI tools could be seen as a positive attribute.\",\n",
       " '',\n",
       " 'Recommendations:',\n",
       " '1. Highlight specific projects related to data engineering, model deployment, and data validation to showcase direct relevance to the job description.',\n",
       " '2. Provide more details on experience with API design, scaling data infrastructure, and specific tools mentioned in the job description.',\n",
       " '3. Consider emphasizing the successful cost-saving initiatives and data-driven decision-making results achieved in previous roles.',\n",
       " '4. While the additional activity of producing coloring books demonstrates creativity, consider focusing on professional achievements more closely related to data science for a Senior Data Scientist position.',\n",
       " '',\n",
       " \"Overall, the candidate's resume demonstrates a strong foundation in data analytics and project management, with some areas that could be further developed to align more closely with the job description for a Senior Data Scientist role.\"]"
      ]
     },
     "execution_count": 86,
     "metadata": {},
     "output_type": "execute_result"
    }
   ],
   "source": [
    "new_list"
   ]
  },
  {
   "cell_type": "code",
   "execution_count": 74,
   "id": "ad900492",
   "metadata": {},
   "outputs": [],
   "source": [
    "new_list = [item.strip() for item in new_list if len(item)>0]"
   ]
  },
  {
   "cell_type": "code",
   "execution_count": 75,
   "id": "f45f8bdb",
   "metadata": {},
   "outputs": [
    {
     "name": "stdout",
     "output_type": "stream",
     "text": [
      "Overall Score: 75/100 0\n",
      "Education: 80/100 1\n",
      "The candidate holds a postgraduate degree in Science/Information Studies and has completed courses related to data analysis. While not specifically mentioned in the resume, the candidate's educational background aligns well with the job description's requirement for a Bachelor/Master in a quantitative discipline. 2\n",
      "Experience: 70/100 3\n",
      "The candidate has extensive experience in data analytics, process improvement, and project management at Banco do Brasil. The roles held demonstrate involvement in data 4\n",
      "related projects, ETL processes, and database management, which are relevant to the job description. However, more emphasis on specific projects related to data engineering and model deployment could further align the experience with the job requirements. 5\n",
      "Skills: 70/100 6\n",
      "The candidate possesses skills in various programming languages, database tools, and data visualization platforms. While the resume mentions Python, SQL, and ETL processes, more details on experience with API design, scaling data infrastructure, and specific tools mentioned in the job description could enhance alignment. 7\n",
      "Language: 100/100 8\n",
      "The candidate has listed English as an advanced language proficiency, which aligns with the job description's requirement for effective communication with technical and non 9\n",
      "technical stakeholders. 10\n",
      "Additional Activities: 50/100 11\n",
      "The candidate's involvement in producing coloring books related to combating religious intolerance, while commendable, may not directly relate to the role of a Senior Data Scientist. However, the candidate's creativity and use of AI tools could be seen as a positive attribute. 12\n",
      "Recommendations: 13\n",
      "1. Highlight specific projects related to data engineering, model deployment, and data validation to showcase direct relevance to the job description. 14\n",
      "2. Provide more details on experience with API design, scaling data infrastructure, and specific tools mentioned in the job description. 15\n",
      "3. Consider emphasizing the successful cost 16\n",
      "saving initiatives and data 17\n",
      "driven decision 18\n",
      "making results achieved in previous roles. 19\n",
      "4. While the additional activity of producing coloring books demonstrates creativity, consider focusing on professional achievements more closely related to data science for a Senior Data Scientist position. 20\n",
      "Overall, the candidate's resume demonstrates a strong foundation in data analytics and project management, with some areas that could be further developed to align more closely with the job description for a Senior Data Scientist role. 21\n"
     ]
    }
   ],
   "source": [
    "for i in new_list:\n",
    "    print(i, new_list.index(i))"
   ]
  },
  {
   "cell_type": "code",
   "execution_count": null,
   "id": "2b49cf84",
   "metadata": {},
   "outputs": [],
   "source": []
  },
  {
   "cell_type": "code",
   "execution_count": null,
   "id": "667405a6",
   "metadata": {},
   "outputs": [],
   "source": []
  }
 ],
 "metadata": {
  "kernelspec": {
   "display_name": "Python 3 (ipykernel)",
   "language": "python",
   "name": "python3"
  },
  "language_info": {
   "codemirror_mode": {
    "name": "ipython",
    "version": 3
   },
   "file_extension": ".py",
   "mimetype": "text/x-python",
   "name": "python",
   "nbconvert_exporter": "python",
   "pygments_lexer": "ipython3",
   "version": "3.11.5"
  }
 },
 "nbformat": 4,
 "nbformat_minor": 5
}
